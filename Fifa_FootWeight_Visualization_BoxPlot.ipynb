{
  "nbformat": 4,
  "nbformat_minor": 0,
  "metadata": {
    "colab": {
      "provenance": []
    },
    "kernelspec": {
      "name": "python3",
      "display_name": "Python 3"
    },
    "language_info": {
      "name": "python"
    }
  },
  "cells": [
    {
      "cell_type": "code",
      "execution_count": 9,
      "metadata": {
        "id": "0wYlUdwTv3Zf"
      },
      "outputs": [],
      "source": [
        "import matplotlib.pyplot as plt"
      ]
    },
    {
      "cell_type": "code",
      "source": [
        "import numpy as np"
      ],
      "metadata": {
        "id": "ETLYYNaFwq4O"
      },
      "execution_count": 10,
      "outputs": []
    },
    {
      "cell_type": "code",
      "source": [
        "import pandas as pd"
      ],
      "metadata": {
        "id": "etVvF4s9wusf"
      },
      "execution_count": 11,
      "outputs": []
    },
    {
      "cell_type": "markdown",
      "source": [
        "**Load FIFA Data**"
      ],
      "metadata": {
        "id": "pS4Fn_aO7ca4"
      }
    },
    {
      "cell_type": "code",
      "source": [
        "import pandas as pd\n",
        "gas=pd.read_csv('/content/gas_prices.csv')\n",
        "fifa=pd.read_csv('/content/fifa_data.csv')"
      ],
      "metadata": {
        "id": "fyr0jo0r7gsJ"
      },
      "execution_count": 6,
      "outputs": []
    },
    {
      "cell_type": "code",
      "source": [
        "fifa.head()"
      ],
      "metadata": {
        "id": "_KAfdx1A7nzD",
        "colab": {
          "base_uri": "https://localhost:8080/",
          "height": 403
        },
        "outputId": "7ef6ab45-3af4-4867-9592-f0ff5c28be41"
      },
      "execution_count": 8,
      "outputs": [
        {
          "output_type": "execute_result",
          "data": {
            "text/plain": [
              "   Unnamed: 0      ID               Name  Age  \\\n",
              "0           0  158023           L. Messi   31   \n",
              "1           1   20801  Cristiano Ronaldo   33   \n",
              "2           2  190871          Neymar Jr   26   \n",
              "3           3  193080             De Gea   27   \n",
              "4           4  192985       K. De Bruyne   27   \n",
              "\n",
              "                                            Photo Nationality  \\\n",
              "0  https://cdn.sofifa.org/players/4/19/158023.png   Argentina   \n",
              "1   https://cdn.sofifa.org/players/4/19/20801.png    Portugal   \n",
              "2  https://cdn.sofifa.org/players/4/19/190871.png      Brazil   \n",
              "3  https://cdn.sofifa.org/players/4/19/193080.png       Spain   \n",
              "4  https://cdn.sofifa.org/players/4/19/192985.png     Belgium   \n",
              "\n",
              "                                  Flag  Overall  Potential  \\\n",
              "0  https://cdn.sofifa.org/flags/52.png     94.0       94.0   \n",
              "1  https://cdn.sofifa.org/flags/38.png     94.0       94.0   \n",
              "2  https://cdn.sofifa.org/flags/54.png     92.0       93.0   \n",
              "3  https://cdn.sofifa.org/flags/45.png     91.0       93.0   \n",
              "4   https://cdn.sofifa.org/flags/7.png     91.0       92.0   \n",
              "\n",
              "                  Club  ... Composure Marking StandingTackle  SlidingTackle  \\\n",
              "0         FC Barcelona  ...      96.0    33.0           28.0           26.0   \n",
              "1             Juventus  ...      95.0    28.0           31.0           23.0   \n",
              "2  Paris Saint-Germain  ...      94.0    27.0           24.0           33.0   \n",
              "3    Manchester United  ...      68.0    15.0           21.0           13.0   \n",
              "4      Manchester City  ...      88.0    68.0           58.0           51.0   \n",
              "\n",
              "  GKDiving  GKHandling  GKKicking  GKPositioning GKReflexes Release Clause  \n",
              "0      6.0        11.0       15.0           14.0        8.0        €226.5M  \n",
              "1      7.0        11.0       15.0           14.0       11.0        €127.1M  \n",
              "2      9.0         9.0       15.0           15.0       11.0        €228.1M  \n",
              "3     90.0        85.0       87.0           88.0       94.0        €138.6M  \n",
              "4     15.0        13.0        5.0           10.0       13.0        €196.4M  \n",
              "\n",
              "[5 rows x 89 columns]"
            ],
            "text/html": [
              "\n",
              "  <div id=\"df-13324771-151f-40d0-bcd9-1957f851e40f\">\n",
              "    <div class=\"colab-df-container\">\n",
              "      <div>\n",
              "<style scoped>\n",
              "    .dataframe tbody tr th:only-of-type {\n",
              "        vertical-align: middle;\n",
              "    }\n",
              "\n",
              "    .dataframe tbody tr th {\n",
              "        vertical-align: top;\n",
              "    }\n",
              "\n",
              "    .dataframe thead th {\n",
              "        text-align: right;\n",
              "    }\n",
              "</style>\n",
              "<table border=\"1\" class=\"dataframe\">\n",
              "  <thead>\n",
              "    <tr style=\"text-align: right;\">\n",
              "      <th></th>\n",
              "      <th>Unnamed: 0</th>\n",
              "      <th>ID</th>\n",
              "      <th>Name</th>\n",
              "      <th>Age</th>\n",
              "      <th>Photo</th>\n",
              "      <th>Nationality</th>\n",
              "      <th>Flag</th>\n",
              "      <th>Overall</th>\n",
              "      <th>Potential</th>\n",
              "      <th>Club</th>\n",
              "      <th>...</th>\n",
              "      <th>Composure</th>\n",
              "      <th>Marking</th>\n",
              "      <th>StandingTackle</th>\n",
              "      <th>SlidingTackle</th>\n",
              "      <th>GKDiving</th>\n",
              "      <th>GKHandling</th>\n",
              "      <th>GKKicking</th>\n",
              "      <th>GKPositioning</th>\n",
              "      <th>GKReflexes</th>\n",
              "      <th>Release Clause</th>\n",
              "    </tr>\n",
              "  </thead>\n",
              "  <tbody>\n",
              "    <tr>\n",
              "      <th>0</th>\n",
              "      <td>0</td>\n",
              "      <td>158023</td>\n",
              "      <td>L. Messi</td>\n",
              "      <td>31</td>\n",
              "      <td>https://cdn.sofifa.org/players/4/19/158023.png</td>\n",
              "      <td>Argentina</td>\n",
              "      <td>https://cdn.sofifa.org/flags/52.png</td>\n",
              "      <td>94.0</td>\n",
              "      <td>94.0</td>\n",
              "      <td>FC Barcelona</td>\n",
              "      <td>...</td>\n",
              "      <td>96.0</td>\n",
              "      <td>33.0</td>\n",
              "      <td>28.0</td>\n",
              "      <td>26.0</td>\n",
              "      <td>6.0</td>\n",
              "      <td>11.0</td>\n",
              "      <td>15.0</td>\n",
              "      <td>14.0</td>\n",
              "      <td>8.0</td>\n",
              "      <td>€226.5M</td>\n",
              "    </tr>\n",
              "    <tr>\n",
              "      <th>1</th>\n",
              "      <td>1</td>\n",
              "      <td>20801</td>\n",
              "      <td>Cristiano Ronaldo</td>\n",
              "      <td>33</td>\n",
              "      <td>https://cdn.sofifa.org/players/4/19/20801.png</td>\n",
              "      <td>Portugal</td>\n",
              "      <td>https://cdn.sofifa.org/flags/38.png</td>\n",
              "      <td>94.0</td>\n",
              "      <td>94.0</td>\n",
              "      <td>Juventus</td>\n",
              "      <td>...</td>\n",
              "      <td>95.0</td>\n",
              "      <td>28.0</td>\n",
              "      <td>31.0</td>\n",
              "      <td>23.0</td>\n",
              "      <td>7.0</td>\n",
              "      <td>11.0</td>\n",
              "      <td>15.0</td>\n",
              "      <td>14.0</td>\n",
              "      <td>11.0</td>\n",
              "      <td>€127.1M</td>\n",
              "    </tr>\n",
              "    <tr>\n",
              "      <th>2</th>\n",
              "      <td>2</td>\n",
              "      <td>190871</td>\n",
              "      <td>Neymar Jr</td>\n",
              "      <td>26</td>\n",
              "      <td>https://cdn.sofifa.org/players/4/19/190871.png</td>\n",
              "      <td>Brazil</td>\n",
              "      <td>https://cdn.sofifa.org/flags/54.png</td>\n",
              "      <td>92.0</td>\n",
              "      <td>93.0</td>\n",
              "      <td>Paris Saint-Germain</td>\n",
              "      <td>...</td>\n",
              "      <td>94.0</td>\n",
              "      <td>27.0</td>\n",
              "      <td>24.0</td>\n",
              "      <td>33.0</td>\n",
              "      <td>9.0</td>\n",
              "      <td>9.0</td>\n",
              "      <td>15.0</td>\n",
              "      <td>15.0</td>\n",
              "      <td>11.0</td>\n",
              "      <td>€228.1M</td>\n",
              "    </tr>\n",
              "    <tr>\n",
              "      <th>3</th>\n",
              "      <td>3</td>\n",
              "      <td>193080</td>\n",
              "      <td>De Gea</td>\n",
              "      <td>27</td>\n",
              "      <td>https://cdn.sofifa.org/players/4/19/193080.png</td>\n",
              "      <td>Spain</td>\n",
              "      <td>https://cdn.sofifa.org/flags/45.png</td>\n",
              "      <td>91.0</td>\n",
              "      <td>93.0</td>\n",
              "      <td>Manchester United</td>\n",
              "      <td>...</td>\n",
              "      <td>68.0</td>\n",
              "      <td>15.0</td>\n",
              "      <td>21.0</td>\n",
              "      <td>13.0</td>\n",
              "      <td>90.0</td>\n",
              "      <td>85.0</td>\n",
              "      <td>87.0</td>\n",
              "      <td>88.0</td>\n",
              "      <td>94.0</td>\n",
              "      <td>€138.6M</td>\n",
              "    </tr>\n",
              "    <tr>\n",
              "      <th>4</th>\n",
              "      <td>4</td>\n",
              "      <td>192985</td>\n",
              "      <td>K. De Bruyne</td>\n",
              "      <td>27</td>\n",
              "      <td>https://cdn.sofifa.org/players/4/19/192985.png</td>\n",
              "      <td>Belgium</td>\n",
              "      <td>https://cdn.sofifa.org/flags/7.png</td>\n",
              "      <td>91.0</td>\n",
              "      <td>92.0</td>\n",
              "      <td>Manchester City</td>\n",
              "      <td>...</td>\n",
              "      <td>88.0</td>\n",
              "      <td>68.0</td>\n",
              "      <td>58.0</td>\n",
              "      <td>51.0</td>\n",
              "      <td>15.0</td>\n",
              "      <td>13.0</td>\n",
              "      <td>5.0</td>\n",
              "      <td>10.0</td>\n",
              "      <td>13.0</td>\n",
              "      <td>€196.4M</td>\n",
              "    </tr>\n",
              "  </tbody>\n",
              "</table>\n",
              "<p>5 rows × 89 columns</p>\n",
              "</div>\n",
              "      <button class=\"colab-df-convert\" onclick=\"convertToInteractive('df-13324771-151f-40d0-bcd9-1957f851e40f')\"\n",
              "              title=\"Convert this dataframe to an interactive table.\"\n",
              "              style=\"display:none;\">\n",
              "        \n",
              "  <svg xmlns=\"http://www.w3.org/2000/svg\" height=\"24px\"viewBox=\"0 0 24 24\"\n",
              "       width=\"24px\">\n",
              "    <path d=\"M0 0h24v24H0V0z\" fill=\"none\"/>\n",
              "    <path d=\"M18.56 5.44l.94 2.06.94-2.06 2.06-.94-2.06-.94-.94-2.06-.94 2.06-2.06.94zm-11 1L8.5 8.5l.94-2.06 2.06-.94-2.06-.94L8.5 2.5l-.94 2.06-2.06.94zm10 10l.94 2.06.94-2.06 2.06-.94-2.06-.94-.94-2.06-.94 2.06-2.06.94z\"/><path d=\"M17.41 7.96l-1.37-1.37c-.4-.4-.92-.59-1.43-.59-.52 0-1.04.2-1.43.59L10.3 9.45l-7.72 7.72c-.78.78-.78 2.05 0 2.83L4 21.41c.39.39.9.59 1.41.59.51 0 1.02-.2 1.41-.59l7.78-7.78 2.81-2.81c.8-.78.8-2.07 0-2.86zM5.41 20L4 18.59l7.72-7.72 1.47 1.35L5.41 20z\"/>\n",
              "  </svg>\n",
              "      </button>\n",
              "      \n",
              "  <style>\n",
              "    .colab-df-container {\n",
              "      display:flex;\n",
              "      flex-wrap:wrap;\n",
              "      gap: 12px;\n",
              "    }\n",
              "\n",
              "    .colab-df-convert {\n",
              "      background-color: #E8F0FE;\n",
              "      border: none;\n",
              "      border-radius: 50%;\n",
              "      cursor: pointer;\n",
              "      display: none;\n",
              "      fill: #1967D2;\n",
              "      height: 32px;\n",
              "      padding: 0 0 0 0;\n",
              "      width: 32px;\n",
              "    }\n",
              "\n",
              "    .colab-df-convert:hover {\n",
              "      background-color: #E2EBFA;\n",
              "      box-shadow: 0px 1px 2px rgba(60, 64, 67, 0.3), 0px 1px 3px 1px rgba(60, 64, 67, 0.15);\n",
              "      fill: #174EA6;\n",
              "    }\n",
              "\n",
              "    [theme=dark] .colab-df-convert {\n",
              "      background-color: #3B4455;\n",
              "      fill: #D2E3FC;\n",
              "    }\n",
              "\n",
              "    [theme=dark] .colab-df-convert:hover {\n",
              "      background-color: #434B5C;\n",
              "      box-shadow: 0px 1px 3px 1px rgba(0, 0, 0, 0.15);\n",
              "      filter: drop-shadow(0px 1px 2px rgba(0, 0, 0, 0.3));\n",
              "      fill: #FFFFFF;\n",
              "    }\n",
              "  </style>\n",
              "\n",
              "      <script>\n",
              "        const buttonEl =\n",
              "          document.querySelector('#df-13324771-151f-40d0-bcd9-1957f851e40f button.colab-df-convert');\n",
              "        buttonEl.style.display =\n",
              "          google.colab.kernel.accessAllowed ? 'block' : 'none';\n",
              "\n",
              "        async function convertToInteractive(key) {\n",
              "          const element = document.querySelector('#df-13324771-151f-40d0-bcd9-1957f851e40f');\n",
              "          const dataTable =\n",
              "            await google.colab.kernel.invokeFunction('convertToInteractive',\n",
              "                                                     [key], {});\n",
              "          if (!dataTable) return;\n",
              "\n",
              "          const docLinkHtml = 'Like what you see? Visit the ' +\n",
              "            '<a target=\"_blank\" href=https://colab.research.google.com/notebooks/data_table.ipynb>data table notebook</a>'\n",
              "            + ' to learn more about interactive tables.';\n",
              "          element.innerHTML = '';\n",
              "          dataTable['output_type'] = 'display_data';\n",
              "          await google.colab.output.renderOutput(dataTable, element);\n",
              "          const docLink = document.createElement('div');\n",
              "          docLink.innerHTML = docLinkHtml;\n",
              "          element.appendChild(docLink);\n",
              "        }\n",
              "      </script>\n",
              "    </div>\n",
              "  </div>\n",
              "  "
            ]
          },
          "metadata": {},
          "execution_count": 8
        }
      ]
    },
    {
      "cell_type": "code",
      "source": [
        "fifa['Preferred Foot']"
      ],
      "metadata": {
        "colab": {
          "base_uri": "https://localhost:8080/"
        },
        "id": "jLfitVyp2WVp",
        "outputId": "7d7dc80c-b53f-44bf-bcad-e5bf9c698da7"
      },
      "execution_count": 30,
      "outputs": [
        {
          "output_type": "execute_result",
          "data": {
            "text/plain": [
              "0        Left\n",
              "1       Right\n",
              "2       Right\n",
              "3       Right\n",
              "4       Right\n",
              "        ...  \n",
              "6231     Left\n",
              "6232    Right\n",
              "6233    Right\n",
              "6234     Left\n",
              "6235      NaN\n",
              "Name: Preferred Foot, Length: 6236, dtype: object"
            ]
          },
          "metadata": {},
          "execution_count": 30
        }
      ]
    },
    {
      "cell_type": "markdown",
      "source": [
        "**Histogram**\n"
      ],
      "metadata": {
        "id": "S4h4J3xG219B"
      }
    },
    {
      "cell_type": "code",
      "source": [
        "bins=[40,50,60,70,80,90,100]\n",
        "plt.hist(fifa.Overall,bins=bins, color='red')\n",
        "plt.xticks(bins)\n",
        "plt.ylabel('Number of Players')\n",
        "plt.xlabel('Skill Level')\n",
        "plt.title(\"Distribution of Player Skills in FIFA 2018\")\n",
        "\n",
        "plt.show()"
      ],
      "metadata": {
        "colab": {
          "base_uri": "https://localhost:8080/",
          "height": 295
        },
        "id": "mhq7SD0K2-3N",
        "outputId": "83da65ab-a411-42b4-82dd-4a3c6ce3b82a"
      },
      "execution_count": 12,
      "outputs": [
        {
          "output_type": "display_data",
          "data": {
            "text/plain": [
              "<Figure size 432x288 with 1 Axes>"
            ],
            "image/png": "[encoded data removed]"
          },
          "metadata": {
            "needs_background": "light"
          }
        }
      ]
    },
    {
      "cell_type": "code",
      "source": [
        "for col in fifa:\n",
        "  print(col)"
      ],
      "metadata": {
        "id": "QfZywBhI6AEF"
      },
      "execution_count": null,
      "outputs": []
    },
    {
      "cell_type": "markdown",
      "source": [
        "**pie** **CHart**"
      ],
      "metadata": {
        "id": "qvTLn1q-6CL3"
      }
    },
    {
      "cell_type": "markdown",
      "source": [
        "bold text"
      ],
      "metadata": {
        "id": "ERcqyZHj5-r7"
      }
    },
    {
      "cell_type": "code",
      "source": [
        "left=fifa.loc[fifa['Preferred Foot'] == 'Left'].count()[0]\n",
        "right=fifa.loc[fifa['Preferred Foot'] == 'Right'].count()[0]"
      ],
      "metadata": {
        "id": "N6p0eVS7296_"
      },
      "execution_count": 13,
      "outputs": []
    },
    {
      "cell_type": "code",
      "source": [
        "left"
      ],
      "metadata": {
        "colab": {
          "base_uri": "https://localhost:8080/"
        },
        "id": "KahAevlv6f76",
        "outputId": "19068e4b-31bf-4ef4-df4b-4134cfdba708"
      },
      "execution_count": 14,
      "outputs": [
        {
          "output_type": "execute_result",
          "data": {
            "text/plain": [
              "4211"
            ]
          },
          "metadata": {},
          "execution_count": 14
        }
      ]
    },
    {
      "cell_type": "code",
      "source": [
        "right"
      ],
      "metadata": {
        "colab": {
          "base_uri": "https://localhost:8080/"
        },
        "id": "xwd9Bj2v8X2h",
        "outputId": "9d2ac486-dbb1-4733-fd8c-0adbce672ae4"
      },
      "execution_count": 15,
      "outputs": [
        {
          "output_type": "execute_result",
          "data": {
            "text/plain": [
              "13948"
            ]
          },
          "metadata": {},
          "execution_count": 15
        }
      ]
    },
    {
      "cell_type": "code",
      "source": [
        "labels=['left','right']"
      ],
      "metadata": {
        "id": "_e8nAbEF9Bdy"
      },
      "execution_count": 17,
      "outputs": []
    },
    {
      "cell_type": "code",
      "source": [
        "plt.pie([left, right], labels=labels,autopct='%.2f %%')\n",
        "plt.title(\"Foot preferred of Fifa Players\")"
      ],
      "metadata": {
        "colab": {
          "base_uri": "https://localhost:8080/",
          "height": 281
        },
        "id": "iItOho4r6hJV",
        "outputId": "d36ffe13-fcc4-4ce5-c15e-4f6e15724ec8"
      },
      "execution_count": 18,
      "outputs": [
        {
          "output_type": "execute_result",
          "data": {
            "text/plain": [
              "Text(0.5, 1.0, 'Foot preferred of Fifa Players')"
            ]
          },
          "metadata": {},
          "execution_count": 18
        },
        {
          "output_type": "display_data",
          "data": {
            "text/plain": [
              "<Figure size 432x288 with 1 Axes>"
            ],
            "image/png": "[encoded data removed]"
          },
          "metadata": {}
        }
      ]
    },
    {
      "cell_type": "code",
      "source": [
        "fifa['Weight']"
      ],
      "metadata": {
        "colab": {
          "base_uri": "https://localhost:8080/"
        },
        "id": "YYHVEulo8D9E",
        "outputId": "6ea11bef-baf5-4ef5-f9de-5845562c6586"
      },
      "execution_count": 19,
      "outputs": [
        {
          "output_type": "execute_result",
          "data": {
            "text/plain": [
              "0        159lbs\n",
              "1        183lbs\n",
              "2        150lbs\n",
              "3        168lbs\n",
              "4        154lbs\n",
              "          ...  \n",
              "18202    134lbs\n",
              "18203    170lbs\n",
              "18204    148lbs\n",
              "18205    154lbs\n",
              "18206    176lbs\n",
              "Name: Weight, Length: 18207, dtype: object"
            ]
          },
          "metadata": {},
          "execution_count": 19
        }
      ]
    },
    {
      "cell_type": "code",
      "source": [
        "fifa.weight=[ x.strip('lbs') if type(x)==str else x for x in fifa.Weight]"
      ],
      "metadata": {
        "colab": {
          "base_uri": "https://localhost:8080/"
        },
        "id": "JxhGmp1X_KTL",
        "outputId": "8a17cdad-8a50-4def-ac77-c2225cef9148"
      },
      "execution_count": 20,
      "outputs": [
        {
          "output_type": "stream",
          "name": "stderr",
          "text": [
            "<ipython-input-20-bf852f92ba70>:1: UserWarning: Pandas doesn't allow columns to be created via a new attribute name - see https://pandas.pydata.org/pandas-docs/stable/indexing.html#attribute-access\n",
            "  fifa.weight=[ x.strip('lbs') if type(x)==str else x for x in fifa.Weight]\n"
          ]
        }
      ]
    },
    {
      "cell_type": "code",
      "source": [
        "fifa.Weight=[int(x.strip('lbs')) if type(x)==str else x for x in fifa.Weight]"
      ],
      "metadata": {
        "id": "6hHWGKPqBK84"
      },
      "execution_count": 21,
      "outputs": []
    },
    {
      "cell_type": "code",
      "source": [
        "fifa.Weight"
      ],
      "metadata": {
        "colab": {
          "base_uri": "https://localhost:8080/"
        },
        "id": "fL4oKFqDCFD6",
        "outputId": "16f8b9d9-f80f-418f-d26c-896eb967c311"
      },
      "execution_count": 56,
      "outputs": [
        {
          "output_type": "execute_result",
          "data": {
            "text/plain": [
              "0        159.0\n",
              "1        183.0\n",
              "2        150.0\n",
              "3        168.0\n",
              "4        154.0\n",
              "         ...  \n",
              "18202    134.0\n",
              "18203    170.0\n",
              "18204    148.0\n",
              "18205    154.0\n",
              "18206    176.0\n",
              "Name: Weight, Length: 18207, dtype: float64"
            ]
          },
          "metadata": {},
          "execution_count": 56
        }
      ]
    },
    {
      "cell_type": "code",
      "source": [
        "fifa.Weight[41]"
      ],
      "metadata": {
        "colab": {
          "base_uri": "https://localhost:8080/"
        },
        "id": "gmNfUpRNq1DH",
        "outputId": "339fc94c-02d7-4c1a-f215-ad24f36b6da9"
      },
      "execution_count": 59,
      "outputs": [
        {
          "output_type": "execute_result",
          "data": {
            "text/plain": [
              "203.0"
            ]
          },
          "metadata": {},
          "execution_count": 59
        }
      ]
    },
    {
      "cell_type": "code",
      "source": [
        "light=fifa.loc[fifa.Weight < 125].count()[0]\n",
        "light_medium=fifa.loc[(fifa.Weight >=125) & (fifa.Weight < 150)].count()[0]"
      ],
      "metadata": {
        "id": "99nMKwAXCHLY"
      },
      "execution_count": 83,
      "outputs": []
    },
    {
      "cell_type": "code",
      "source": [
        "light"
      ],
      "metadata": {
        "colab": {
          "base_uri": "https://localhost:8080/"
        },
        "id": "VMF--zFeni6G",
        "outputId": "f822a33a-34e7-466c-c634-241e16f73b8f"
      },
      "execution_count": 77,
      "outputs": [
        {
          "output_type": "execute_result",
          "data": {
            "text/plain": [
              "41"
            ]
          },
          "metadata": {},
          "execution_count": 77
        }
      ]
    },
    {
      "cell_type": "code",
      "source": [
        "light_medium=fifa.loc[(fifa.Weight>=125) & (fifa.Weight<150)]"
      ],
      "metadata": {
        "id": "9ga5s1xYDiJz"
      },
      "execution_count": 78,
      "outputs": []
    },
    {
      "cell_type": "code",
      "source": [
        "light_medium"
      ],
      "metadata": {
        "id": "4MS464U-o3Av"
      },
      "execution_count": null,
      "outputs": []
    },
    {
      "cell_type": "code",
      "source": [
        "medium=fifa.loc[(fifa.Weight >=150) & (fifa.Weight < 175)].count()[0]\n",
        "medium_heavy=fifa[(fifa.Weight>=175) & fifa.Weight<200].count()[0]\n",
        "heavy=fifa[(fifa.Weight>=200)].count()[0]"
      ],
      "metadata": {
        "id": "1AIAA1muELyH"
      },
      "execution_count": 80,
      "outputs": []
    },
    {
      "cell_type": "code",
      "source": [
        "medium"
      ],
      "metadata": {
        "colab": {
          "base_uri": "https://localhost:8080/"
        },
        "id": "BSI47U3pENdb",
        "outputId": "0599f67e-3869-42a2-f2fa-e6de61e437f5"
      },
      "execution_count": 54,
      "outputs": [
        {
          "output_type": "execute_result",
          "data": {
            "text/plain": [
              "4583"
            ]
          },
          "metadata": {},
          "execution_count": 54
        }
      ]
    },
    {
      "cell_type": "code",
      "source": [
        "weights=[light, light_medium,medium,medium_heavy,heavy]"
      ],
      "metadata": {
        "id": "mgunuMAypVkj"
      },
      "execution_count": 99,
      "outputs": []
    },
    {
      "cell_type": "code",
      "source": [
        "labels=['under_125','125-150','150-175','175-200','over 200']\n",
        "plt.style.use('ggplot')\n",
        "explode=(.4,0.2,0,0,0.4)\n",
        "plt.figure(1,figsize=(5,8))\n",
        "plt.pie(weights,labels=labels,autopct='% .2f %%',pctdistance=0.9, explode=explode)\n",
        "plt.title('Foot Weight Distribution in Fifa Player (in lbs) ')\n",
        "plt.savefig('Fifa_Foot_Weight_Pie.png')\n",
        "plt.legend()\n",
        "plt.show()"
      ],
      "metadata": {
        "colab": {
          "base_uri": "https://localhost:8080/",
          "height": 447
        },
        "id": "k5yRYBoatwxS",
        "outputId": "3be9f737-a585-41b3-acca-0fba384d9861"
      },
      "execution_count": 172,
      "outputs": [
        {
          "output_type": "display_data",
          "data": {
            "text/plain": [
              "<Figure size 500x800 with 1 Axes>"
            ],
            "image/png": "[encoded data removed]"
          },
          "metadata": {}
        }
      ]
    },
    {
      "cell_type": "markdown",
      "source": [
        "**Box** **Plot**"
      ],
      "metadata": {
        "id": "M3_u-W1z0S9-"
      }
    },
    {
      "cell_type": "code",
      "source": [
        "plt.style.use('default')\n",
        "plt.figure(figsize=(5,8))\n",
        "barcelona=fifa.loc[fifa.Club=='FC Barcelona']['Overall']\n",
        "madrid=fifa.loc[fifa.Club=='Real Madrid']['Overall']\n",
        "rev=fifa.loc[fifa.Club== 'New England Revolution']['Overall']\n",
        "labels=['FC Barcelona', 'Real Madrid ', 'NE England Revolution']\n",
        "boxes=plt.boxplot([barcelona,madrid,rev], labels=labels, patch_artist=True, medianprops={'linewidth':2})\n",
        "colors=['blue','green','red']\n",
        "facecolors=['black','white','grey']\n",
        "for box in boxes['boxes']:\n",
        "  box.set(color=colors.pop(0), linewidth=2)\n",
        "  box.set(facecolor=facecolors.pop(0))\n",
        "plt.title(\"Professional Soccer Teams Comparision\")\n",
        "plt.ylabel('Fifa Over all Rating ')\n",
        "\n",
        "plt.legend()\n",
        "plt.savefig('Fifa_Boxplot_Player_Overall.png', dpi=300)\n",
        "plt.show()\n",
        "\n",
        "\n",
        "\n"
      ],
      "metadata": {
        "colab": {
          "base_uri": "https://localhost:8080/",
          "height": 736
        },
        "id": "1fZIQpGX0b5y",
        "outputId": "91744069-7516-45ec-cc6a-3a85049dd6e9"
      },
      "execution_count": 176,
      "outputs": [
        {
          "output_type": "stream",
          "name": "stderr",
          "text": [
            "WARNING:matplotlib.legend:No artists with labels found to put in legend.  Note that artists whose label start with an underscore are ignored when legend() is called with no argument.\n"
          ]
        },
        {
          "output_type": "display_data",
          "data": {
            "text/plain": [
              "<Figure size 500x800 with 1 Axes>"
            ],
            "image/png": "[encoded data removed]"
          },
          "metadata": {}
        }
      ]
    },
    {
      "cell_type": "code",
      "source": [],
      "metadata": {
        "id": "P1Q968lo0koh"
      },
      "execution_count": null,
      "outputs": []
    },
    {
      "cell_type": "code",
      "source": [],
      "metadata": {
        "id": "13cZ2Sco3BJB"
      },
      "execution_count": null,
      "outputs": []
    }
  ]
}